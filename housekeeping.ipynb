{
 "cells": [
  {
   "cell_type": "code",
   "execution_count": 2,
   "metadata": {},
   "outputs": [],
   "source": [
    "\n",
    "import sqlite3\n",
    "import json\n",
    "from typing import Literal, Generator, List, Optional\n",
    "from sqlite3 import Error, PrepareProtocol, register_adapter\n",
    "from pydantic import BaseModel\n",
    "\n",
    "class Message(BaseModel):\n",
    "    id: int = 0\n",
    "    role: Literal[\"system\", \"user\", \"assistant\"]\n",
    "    content: str\n",
    "    summary_id: int = 0\n",
    "\n",
    "class Summary(BaseModel):\n",
    "    id: int\n",
    "    title: str\n",
    "    summary: str\n",
    "    entities: List[str]\n",
    "    \n",
    "class SummaryAndMessages(BaseModel):\n",
    "    summary: Summary\n",
    "    messages: List[Message]\n"
   ]
  },
  {
   "cell_type": "code",
   "execution_count": 22,
   "metadata": {},
   "outputs": [],
   "source": [
    "conn = sqlite3.connect(r'Z:\\electron_groq\\database.db')\n",
    "# conn.row_factory = sqlite3.Row\n",
    "cursor = conn.cursor()"
   ]
  },
  {
   "cell_type": "code",
   "execution_count": 10,
   "metadata": {},
   "outputs": [
    {
     "data": {
      "text/html": [
       "<span style=\"None\">Connecting to &#x27;sqlite:///Z:\\\\electron_groq\\\\database.db&#x27;</span>"
      ],
      "text/plain": [
       "Connecting to 'sqlite:///Z:\\\\electron_groq\\\\database.db'"
      ]
     },
     "metadata": {},
     "output_type": "display_data"
    }
   ],
   "source": [
    "%load_ext sql\n",
    "%sql sqlite:///Z:\\electron_groq\\database.db"
   ]
  },
  {
   "cell_type": "code",
   "execution_count": 7,
   "metadata": {
    "vscode": {
     "languageId": "sql"
    }
   },
   "outputs": [
    {
     "data": {
      "text/html": [
       "<span style=\"None\">Running query in &#x27;sqlite:///Z:\\\\electron_groq\\\\database.db&#x27;</span>"
      ],
      "text/plain": [
       "Running query in 'sqlite:///Z:\\\\electron_groq\\\\database.db'"
      ]
     },
     "metadata": {},
     "output_type": "display_data"
    },
    {
     "data": {
      "text/html": [
       "<table>\n",
       "    <thead>\n",
       "        <tr>\n",
       "            <th>type</th>\n",
       "            <th>name</th>\n",
       "            <th>tbl_name</th>\n",
       "            <th>rootpage</th>\n",
       "            <th>sql</th>\n",
       "        </tr>\n",
       "    </thead>\n",
       "    <tbody>\n",
       "        <tr>\n",
       "            <td>table</td>\n",
       "            <td>summary</td>\n",
       "            <td>summary</td>\n",
       "            <td>3</td>\n",
       "            <td>CREATE TABLE summary (<br>                            id integer PRIMARY KEY,<br>                            title text NOT NULL,<br>                            summary text NOT NULL, <br>                            entities text NOT NULL<br>                            )</td>\n",
       "        </tr>\n",
       "        <tr>\n",
       "            <td>table</td>\n",
       "            <td>master</td>\n",
       "            <td>master</td>\n",
       "            <td>5</td>\n",
       "            <td>CREATE TABLE master (id, role, content, summary_id)</td>\n",
       "        </tr>\n",
       "        <tr>\n",
       "            <td>table</td>\n",
       "            <td>temp_chat</td>\n",
       "            <td>temp_chat</td>\n",
       "            <td>2</td>\n",
       "            <td>CREATE TABLE temp_chat (<br>                                id integer PRIMARY KEY,<br>                                role text NOT NULL,<br>                                content text NOT NULL                                <br>                            )</td>\n",
       "        </tr>\n",
       "    </tbody>\n",
       "</table>"
      ],
      "text/plain": [
       "+-------+-----------+-----------+----------+---------------------------------------------------------------------------------------+\n",
       "|  type |    name   |  tbl_name | rootpage |                                          sql                                          |\n",
       "+-------+-----------+-----------+----------+---------------------------------------------------------------------------------------+\n",
       "| table |  summary  |  summary  |    3     |                                 CREATE TABLE summary (                                |\n",
       "|       |           |           |          |                                              id integer PRIMARY KEY,                  |\n",
       "|       |           |           |          |                                                title text NOT NULL,                   |\n",
       "|       |           |           |          |                                              summary text NOT NULL,                   |\n",
       "|       |           |           |          |                                               entities text NOT NULL                  |\n",
       "|       |           |           |          |                                                         )                             |\n",
       "| table |   master  |   master  |    5     |                  CREATE TABLE master (id, role, content, summary_id)                  |\n",
       "| table | temp_chat | temp_chat |    2     |                                CREATE TABLE temp_chat (                               |\n",
       "|       |           |           |          |                                                id integer PRIMARY KEY,                |\n",
       "|       |           |           |          |                                                  role text NOT NULL,                  |\n",
       "|       |           |           |          |                                 content text NOT NULL                                 |\n",
       "|       |           |           |          |                                                         )                             |\n",
       "+-------+-----------+-----------+----------+---------------------------------------------------------------------------------------+"
      ]
     },
     "execution_count": 7,
     "metadata": {},
     "output_type": "execute_result"
    }
   ],
   "source": [
    "%%sql \n",
    "SELECT * FROM sqlite_master;"
   ]
  },
  {
   "cell_type": "code",
   "execution_count": 11,
   "metadata": {
    "vscode": {
     "languageId": "sql"
    }
   },
   "outputs": [
    {
     "data": {
      "text/html": [
       "<span style=\"None\">Running query in &#x27;sqlite:///Z:\\\\electron_groq\\\\database.db&#x27;</span>"
      ],
      "text/plain": [
       "Running query in 'sqlite:///Z:\\\\electron_groq\\\\database.db'"
      ]
     },
     "metadata": {},
     "output_type": "display_data"
    },
    {
     "data": {
      "text/html": [
       "<table>\n",
       "    <thead>\n",
       "        <tr>\n",
       "            <th>id</th>\n",
       "            <th>role</th>\n",
       "            <th>content</th>\n",
       "        </tr>\n",
       "    </thead>\n",
       "    <tbody>\n",
       "        <tr>\n",
       "            <td>1</td>\n",
       "            <td>system</td>\n",
       "            <td>You are a super helpful assistant.</td>\n",
       "        </tr>\n",
       "        <tr>\n",
       "            <td>2</td>\n",
       "            <td>user</td>\n",
       "            <td>Use the online_llm function to search for the current weather conditions in the user's location.</td>\n",
       "        </tr>\n",
       "        <tr>\n",
       "            <td>3</td>\n",
       "            <td>assistant</td>\n",
       "            <td>The current weather conditions in London, UK are partly cloudy with a temperature of 16°C, wind speed of 7mph, and humidity of 82%.<br><br>For more detailed weather information, you can visit the Met Office website, which provides a wide range of forecasts for the UK, including regions and specific locations. The website offers hourly forecasts for the first two days and then in 3-hour time steps for the following days. It includes weather, temperature, wind speed and direction, UV and feels like temperature, and more. You can also choose the units used on your forecast display, such as Celsius or Fahrenheit for temperature.<br><br>For beach forecasts, the Met Office provides an indication of whether the wind will be on-shore or off-shore, offshore sea state and tide times for the nearest available port. However, please note that the beach information is still under development and is intended to give an indication only, it should not be used for safety-critical decisions.<br><br>For current weather conditions from across the UK, Netweather provides a live weather service with current weather conditions including wind speed, humidity and atmospheric pressure as well as hourly weather forecast for the current day and for the next day.<br><br>For a responsive weather widget for your website, Weatherwidget.org offers a free weather widget that displays current weather conditions including wind speed, humidity and atmospheric pressure as well as hourly weather forecast for the current day and for the next day. The widget is customizable, available in 66 languages, and supports both English units and metric units.</td>\n",
       "        </tr>\n",
       "        <tr>\n",
       "            <td>4</td>\n",
       "            <td>user</td>\n",
       "            <td>From the search results, identify the current time of the day (e.g., morning, afternoon, evening, or night).</td>\n",
       "        </tr>\n",
       "        <tr>\n",
       "            <td>5</td>\n",
       "            <td>assistant</td>\n",
       "            <td>Based on the search results, the current time of the day is not explicitly stated. However, weather information is typically updated frequently and often includes the time the data was last updated. From the provided information, it appears that the search results are based on current data, which would suggest that the current time is midday or afternoon. The sun is at its highest point in the sky around 12:00pm, and depending on the user's location, the time may be slightly earlier or later. It is safe to assume that the search results were generated during the daytime.</td>\n",
       "        </tr>\n",
       "    </tbody>\n",
       "</table>"
      ],
      "text/plain": [
       "+----+-----------+---------------------------------------------------------------------------------------------------------------------------------------------------------------------------------------------------------------------------------------------------------------------------------------------------------------------------------------------------------------------------------------------------------------------------------------------------------------------------------------------------------------------------------------------------------------------------------------------------+\n",
       "| id |    role   |                                                                                                                                                                                                                                                                                              content                                                                                                                                                                                                                                                                                              |\n",
       "+----+-----------+---------------------------------------------------------------------------------------------------------------------------------------------------------------------------------------------------------------------------------------------------------------------------------------------------------------------------------------------------------------------------------------------------------------------------------------------------------------------------------------------------------------------------------------------------------------------------------------------------+\n",
       "| 1  |   system  |                                                                                                                                                                                                                                                                                 You are a super helpful assistant.                                                                                                                                                                                                                                                                                |\n",
       "| 2  |    user   |                                                                                                                                                                                                                                                  Use the online_llm function to search for the current weather conditions in the user's location.                                                                                                                                                                                                                                                 |\n",
       "| 3  | assistant |                                                                                                                                                                                                                                The current weather conditions in London, UK are partly cloudy with a temperature of 16°C, wind speed of 7mph, and humidity of 82%.                                                                                                                                                                                                                                |\n",
       "|    |           |                                                                                                                                                                                                                                                                                                                                                                                                                                                                                                                                                                                                   |\n",
       "|    |           |                                           For more detailed weather information, you can visit the Met Office website, which provides a wide range of forecasts for the UK, including regions and specific locations. The website offers hourly forecasts for the first two days and then in 3-hour time steps for the following days. It includes weather, temperature, wind speed and direction, UV and feels like temperature, and more. You can also choose the units used on your forecast display, such as Celsius or Fahrenheit for temperature.                                           |\n",
       "|    |           |                                                                                                                                                                                                                                                                                                                                                                                                                                                                                                                                                                                                   |\n",
       "|    |           |                                                                                                                    For beach forecasts, the Met Office provides an indication of whether the wind will be on-shore or off-shore, offshore sea state and tide times for the nearest available port. However, please note that the beach information is still under development and is intended to give an indication only, it should not be used for safety-critical decisions.                                                                                                                    |\n",
       "|    |           |                                                                                                                                                                                                                                                                                                                                                                                                                                                                                                                                                                                                   |\n",
       "|    |           |                                                                                                                                                                 For current weather conditions from across the UK, Netweather provides a live weather service with current weather conditions including wind speed, humidity and atmospheric pressure as well as hourly weather forecast for the current day and for the next day.                                                                                                                                                                |\n",
       "|    |           |                                                                                                                                                                                                                                                                                                                                                                                                                                                                                                                                                                                                   |\n",
       "|    |           |                                                                                                      For a responsive weather widget for your website, Weatherwidget.org offers a free weather widget that displays current weather conditions including wind speed, humidity and atmospheric pressure as well as hourly weather forecast for the current day and for the next day. The widget is customizable, available in 66 languages, and supports both English units and metric units.                                                                                                      |\n",
       "| 4  |    user   |                                                                                                                                                                                                                                            From the search results, identify the current time of the day (e.g., morning, afternoon, evening, or night).                                                                                                                                                                                                                                           |\n",
       "| 5  | assistant | Based on the search results, the current time of the day is not explicitly stated. However, weather information is typically updated frequently and often includes the time the data was last updated. From the provided information, it appears that the search results are based on current data, which would suggest that the current time is midday or afternoon. The sun is at its highest point in the sky around 12:00pm, and depending on the user's location, the time may be slightly earlier or later. It is safe to assume that the search results were generated during the daytime. |\n",
       "+----+-----------+---------------------------------------------------------------------------------------------------------------------------------------------------------------------------------------------------------------------------------------------------------------------------------------------------------------------------------------------------------------------------------------------------------------------------------------------------------------------------------------------------------------------------------------------------------------------------------------------------+"
      ]
     },
     "execution_count": 11,
     "metadata": {},
     "output_type": "execute_result"
    }
   ],
   "source": [
    "%%sql \n",
    "SELECT * FROM temp_chat;"
   ]
  },
  {
   "cell_type": "code",
   "execution_count": null,
   "metadata": {},
   "outputs": [],
   "source": [
    "cursor.execute(\"\"\"CREATE TABLE IF NOT EXISTS master_s (id, role, content);\"\"\")\n",
    "\n",
    "cursor.execute(\"\"\"\n",
    "    INSERT INTO master_s (id, role, content)\n",
    "    SELECT id, role, content FROM master\n",
    "    UNION ALL\n",
    "    SELECT id, role, content FROM temp_chat;\n",
    "\"\"\")\n",
    "\n",
    "cursor.execute(\"DROP TABLE master\")\n",
    "\n",
    "cursor.execute(\"CREATE TABLE IF NOT EXISTS master (id, role, content);\")\n",
    "\n",
    "cursor.execute(\"\"\"\n",
    "    INSERT INTO master (id, role, content)\n",
    "    SELECT id, role, content FROM master_s\n",
    "\"\"\")\n",
    "\n",
    "cursor.execute(\"DROP TABLE master_s\")\n",
    "\n",
    "conn.commit()"
   ]
  },
  {
   "cell_type": "code",
   "execution_count": 36,
   "metadata": {},
   "outputs": [
    {
     "data": {
      "text/plain": [
       "[{'role': 'system', 'content': 'You are a super helpful assistant.'}]"
      ]
     },
     "execution_count": 36,
     "metadata": {},
     "output_type": "execute_result"
    }
   ],
   "source": [
    "cursor.execute(\"SELECT * FROM temp_chat\")\n",
    "rows = cursor.fetchall()\n",
    "messages = [{\"role\": row[1], \"content\": row[2]} for row in rows]  # use pydantic's [message.to_dict() for row in rows]\n",
    "messages"
   ]
  },
  {
   "cell_type": "code",
   "execution_count": null,
   "metadata": {},
   "outputs": [],
   "source": [
    "row = {\"role\": rows[0][1], \"content\": rows[0][2]}\n",
    "Message(**row)"
   ]
  },
  {
   "cell_type": "code",
   "execution_count": 45,
   "metadata": {},
   "outputs": [
    {
     "data": {
      "text/plain": [
       "'{\\n  \"summary\": \"A request was made to summarize text and list named entities in JSON format, following a specific schema. The schema requires a summary field and an entities field, with entities being an array of strings. The AI responds that it is a super helpful assistant, ready to summarize and list entities in the requested format.\",\\n  \"entities\": [\\n    \"JSON\",\\n    \"schema\"\\n  ]\\n}'"
      ]
     },
     "execution_count": 45,
     "metadata": {},
     "output_type": "execute_result"
    }
   ],
   "source": [
    "from groq import Groq\n",
    "import os, json\n",
    "\n",
    "conn.row_factory = sqlite3.Row\n",
    "cursor = conn.cursor()\n",
    "\n",
    "client = Groq(api_key=os.getenv('GROQ_API_KEY')) \n",
    "\n",
    "cursor.execute(\"SELECT * FROM temp_chat\")\n",
    "rows = cursor.fetchall()\n",
    "messages = [Message(role=row['role'], content=row['content']) for row in rows] \n",
    "\n",
    "messages.append(Message(role=\"system\", content=f\"You are a summary database that outputs summaries in JSON.\\n\\\n",
    "    The JSON object must use the schema: {json.dumps(Summary.model_json_schema(), indent=2)}\"))\n",
    "    \n",
    "messages.append(Message(role=\"user\", content=\"Summarise the above conversation and list up all named entities.\"))\n",
    "\n",
    "main_request = client.chat.completions.create(model=\"mixtral-8x7b-32768\",\n",
    "                                              messages=messages,\n",
    "                                              response_format={\"type\": \"json_object\"})\n",
    "         \n",
    "res = main_request.choices[0].message.content\n",
    "\n",
    "summary_dict = Summary.model_validate_json(res).model_dump()"
   ]
  },
  {
   "cell_type": "code",
   "execution_count": 64,
   "metadata": {},
   "outputs": [
    {
     "data": {
      "text/plain": [
       "'A request was made to summarize text and list named entities in JSON format, following a specific schema. The schema requires a summary field and an entities field, with entities being an array of strings. The AI responds that it is a super helpful assistant, ready to summarize and list entities in the requested format.'"
      ]
     },
     "execution_count": 64,
     "metadata": {},
     "output_type": "execute_result"
    }
   ],
   "source": [
    "summary_dict['summary']"
   ]
  },
  {
   "cell_type": "code",
   "execution_count": 49,
   "metadata": {},
   "outputs": [
    {
     "data": {
      "text/plain": [
       "[(1,\n",
       "  'The conversation covers a class that manages a SQLite database connection, including methods for creating a table, inserting data, dropping a table, and loading data from the database. The class maintains a cursor object that is shared within the class, with a discussion of the potential benefits and drawbacks of sharing the cursor.',\n",
       "  'LocalDB, sqlite3, Message, create_table, insert_data, load_temp, drop_table, load_master, cursor, fetchall, fetchmany, fetchone, commit, row_factory, rollback, Connection, Error, Thread, multiprocessing, concurrent.futures, concurrent.executors, concurrent.futures.ThreadPoolExecutor, concurrent.futures.ProcessPoolExecutor')]"
      ]
     },
     "execution_count": 49,
     "metadata": {},
     "output_type": "execute_result"
    }
   ],
   "source": [
    "cursor.execute(\"\"\"SELECT * FROM summary;\"\"\")\n",
    "res = cursor.fetchall()\n",
    "res"
   ]
  },
  {
   "cell_type": "code",
   "execution_count": 26,
   "metadata": {},
   "outputs": [
    {
     "data": {
      "text/plain": [
       "1"
      ]
     },
     "execution_count": 26,
     "metadata": {},
     "output_type": "execute_result"
    }
   ],
   "source": [
    "cursor.execute(\"\"\"SELECT MAX(id) FROM summary;\"\"\")\n",
    "res = cursor.fetchone()\n",
    "res[0]"
   ]
  },
  {
   "cell_type": "code",
   "execution_count": 69,
   "metadata": {},
   "outputs": [],
   "source": [
    "cursor.execute(\"DROP TABLE temp_chat\")\n",
    "cursor.execute(\"DROP TABLE master\")\n",
    "# cursor.execute(\"DROP TABLE master_s\")\n",
    "cursor.execute(\"\"\"CREATE TABLE IF NOT EXISTS master (\n",
    "    id integer, role text, content text, summary_id integer);\"\"\")\n",
    "\n",
    "cursor.execute(\"DROP TABLE summary\")\n",
    "cursor.execute(\"\"\"CREATE TABLE IF NOT EXISTS summary (\n",
    "                            id integer PRIMARY KEY,\n",
    "                            title text NOT NULL,\n",
    "                            summary text NOT NULL, \n",
    "                            entities text NOT NULL\n",
    "                            );\"\"\")\n",
    "conn.commit()"
   ]
  },
  {
   "cell_type": "code",
   "execution_count": null,
   "metadata": {},
   "outputs": [],
   "source": [
    "conn.close()"
   ]
  },
  {
   "cell_type": "markdown",
   "metadata": {},
   "source": [
    "### using [adaptors](https://docs.python.org/3/library/sqlite3.html#how-to-adapt-custom-python-types-to-sqlite-values) to conform objects."
   ]
  },
  {
   "cell_type": "code",
   "execution_count": 31,
   "metadata": {},
   "outputs": [
    {
     "name": "stdout",
     "output_type": "stream",
     "text": [
      "4.0;-3.2\n"
     ]
    }
   ],
   "source": [
    "class Point:\n",
    "    def __init__(self, x, y):\n",
    "        self.x, self.y = x, y\n",
    "\n",
    "    def __conform__(self, protocol):\n",
    "        if protocol is sqlite3.PrepareProtocol:\n",
    "            return f\"{self.x};{self.y}\"\n",
    "\n",
    "con = sqlite3.connect(\":memory:\")\n",
    "cur = con.cursor()\n",
    "\n",
    "cur.execute(\"SELECT ?\", (Point(4.0, -3.2),))\n",
    "print(cur.fetchone()[0])"
   ]
  },
  {
   "cell_type": "code",
   "execution_count": null,
   "metadata": {},
   "outputs": [],
   "source": [
    "def adapt(summary):\n",
    "    return ' '.join(summary.entities)\n",
    "    \n",
    "register_adapter(Summary, adapt)"
   ]
  },
  {
   "cell_type": "code",
   "execution_count": null,
   "metadata": {},
   "outputs": [],
   "source": [
    "def adapt_list_to_json(lst):\n",
    "    return json.dumps(lst).encode('utf-8')\n",
    "\n",
    "def convert_json_to_list(text):\n",
    "    return json.loads(text.decode('utf-8'))\n",
    "\n",
    "sqlite3.register_adapter(list, adapt_list_to_json)\n",
    "sqlite3.register_converter(\"JSON\", convert_json_to_list)\n",
    "\n",
    "# Connect to your SQLite database, enabling the converter\n",
    "conn = sqlite3.connect('database.db', detect_types=sqlite3.PARSE_DECLTYPES)\n",
    "cursor = conn.cursor()\n",
    "\n",
    "cursor.execute(\"\"\"\n",
    "            INSERT INTO summary (summary, entities) \n",
    "            VALUES (?, ?);\"\"\", (summary.summary, summary.entities))\n",
    "\n",
    "# Don't forget to commit and close\n",
    "conn.commit()\n",
    "conn.close()"
   ]
  },
  {
   "cell_type": "code",
   "execution_count": 60,
   "metadata": {},
   "outputs": [
    {
     "data": {
      "text/plain": [
       "['JSON', 'schema']"
      ]
     },
     "execution_count": 60,
     "metadata": {},
     "output_type": "execute_result"
    }
   ],
   "source": [
    "summary.entities"
   ]
  },
  {
   "cell_type": "code",
   "execution_count": 15,
   "metadata": {},
   "outputs": [],
   "source": [
    "cursor.execute(\"DROP TABLE temp_chat\")\n",
    "\n",
    "cursor.execute(\"\"\"CREATE TABLE IF NOT EXISTS temp_chat (\n",
    "                                id integer PRIMARY KEY,\n",
    "                                role text NOT NULL,\n",
    "                                content text NOT NULL                                \n",
    "                            );\"\"\")\n",
    "conn.commit()"
   ]
  },
  {
   "cell_type": "code",
   "execution_count": 21,
   "metadata": {},
   "outputs": [],
   "source": [
    "# add a column\n",
    "summary_id = 1\n",
    "cursor.execute(f\"\"\"\n",
    "               ALTER TABLE temp_chat\n",
    "               ADD COLUMN summary_id integer DEFAULT {summary_id};\"\"\")\n",
    "conn.commit()\n",
    "# cursor.fetchall()"
   ]
  },
  {
   "cell_type": "code",
   "execution_count": null,
   "metadata": {},
   "outputs": [],
   "source": [
    "# set a value\n",
    "summary_id = 1 \n",
    "cursor.execute(\"\"\"\n",
    "UPDATE temp_chat\n",
    "SET summary_id = ?;\n",
    "\"\"\", (summary_id,))"
   ]
  },
  {
   "cell_type": "code",
   "execution_count": 62,
   "metadata": {},
   "outputs": [],
   "source": [
    "cursor.execute(\"DROP TABLE master\")\n",
    "cursor.execute(\"\"\"CREATE TABLE IF NOT EXISTS master (\n",
    "    id integer PRIMARY KEY, \n",
    "    role text, \n",
    "    content text, \n",
    "    summary_id integer);\"\"\")\n",
    "\n",
    "cursor.execute(\"DROP TABLE summary\")\n",
    "cursor.execute(\"\"\"CREATE TABLE IF NOT EXISTS summary (\n",
    "                            id integer PRIMARY KEY,\n",
    "                            summary text NOT NULL, \n",
    "                            entities text NOT NULL\n",
    "                            );\"\"\")\n",
    "conn.commit()"
   ]
  },
  {
   "cell_type": "code",
   "execution_count": 63,
   "metadata": {},
   "outputs": [],
   "source": [
    "cursor.execute(\"\"\"CREATE TABLE IF NOT EXISTS temp_chat (\n",
    "                                id integer PRIMARY KEY,\n",
    "                                role text NOT NULL,\n",
    "                                content text NOT NULL                                \n",
    "                            );\"\"\")\n",
    "conn.commit()"
   ]
  },
  {
   "cell_type": "code",
   "execution_count": 15,
   "metadata": {
    "vscode": {
     "languageId": "sql"
    }
   },
   "outputs": [
    {
     "data": {
      "text/html": [
       "<span style=\"None\">Running query in &#x27;sqlite:///Z:\\\\electron_groq\\\\database\\\\database.db&#x27;</span>"
      ],
      "text/plain": [
       "Running query in 'sqlite:///Z:\\\\electron_groq\\\\database\\\\database.db'"
      ]
     },
     "metadata": {},
     "output_type": "display_data"
    },
    {
     "data": {
      "text/html": [
       "<table>\n",
       "    <thead>\n",
       "        <tr>\n",
       "            <th>COUNT(*)</th>\n",
       "        </tr>\n",
       "    </thead>\n",
       "    <tbody>\n",
       "        <tr>\n",
       "            <td>11</td>\n",
       "        </tr>\n",
       "    </tbody>\n",
       "</table>"
      ],
      "text/plain": [
       "+----------+\n",
       "| COUNT(*) |\n",
       "+----------+\n",
       "|    11    |\n",
       "+----------+"
      ]
     },
     "execution_count": 15,
     "metadata": {},
     "output_type": "execute_result"
    }
   ],
   "source": [
    "%%sql\n",
    "SELECT COUNT(*) FROM temp_chat;"
   ]
  },
  {
   "cell_type": "code",
   "execution_count": 109,
   "metadata": {
    "vscode": {
     "languageId": "sql"
    }
   },
   "outputs": [
    {
     "data": {
      "text/html": [
       "<span style=\"None\">Running query in &#x27;sqlite:///Z:\\\\electron_groq\\\\database\\\\database.db&#x27;</span>"
      ],
      "text/plain": [
       "Running query in 'sqlite:///Z:\\\\electron_groq\\\\database\\\\database.db'"
      ]
     },
     "metadata": {},
     "output_type": "display_data"
    },
    {
     "data": {
      "text/html": [
       "<table>\n",
       "    <thead>\n",
       "        <tr>\n",
       "            <th>id</th>\n",
       "            <th>title</th>\n",
       "            <th>summary</th>\n",
       "            <th>entities</th>\n",
       "        </tr>\n",
       "    </thead>\n",
       "    <tbody>\n",
       "        <tr>\n",
       "            <td>1</td>\n",
       "            <td>Limits of Knowledge</td>\n",
       "            <td>Inquiry about the limitations of the AI's knowledge. Response includes explanation of the AI's knowledge limits, such as lack of personal experiences and inability to provide professional advice.</td>\n",
       "            <td>AI, medicine, law, mental health, internet, data</td>\n",
       "        </tr>\n",
       "        <tr>\n",
       "            <td>2</td>\n",
       "            <td>Romance Story Summary</td>\n",
       "            <td>Lily, a florist, meets Alex, an artist, and they fall in love. They marry, honeymoon, and start a family. Facing challenges, but supporting each other, they live happily ever after.</td>\n",
       "            <td>Lily, Alex, Harmony, flower shop, Alex's art gallery, wedding, honeymoon, children (son, daughter)</td>\n",
       "        </tr>\n",
       "        <tr>\n",
       "            <td>3</td>\n",
       "            <td>Enabling remote module for preload in Electron</td>\n",
       "            <td>We discussed enabling the remote module for preload to load in Electron and a code snippet for creating a popup window. Named entities: Electron, preload, remote module, renderer process, web page, webPreferences, popup window, nodeIntegration, path, contextIsolation.</td>\n",
       "            <td>Electron, preload, remote module, renderer process, web page, webPreferences, popup window, nodeIntegration, path, contextIsolation</td>\n",
       "        </tr>\n",
       "    </tbody>\n",
       "</table>"
      ],
      "text/plain": [
       "+----+------------------------------------------------+------------------------------------------------------------------------------------------------------------------------------------------------------------------------------------------------------------------------------------------------------------------------------+-------------------------------------------------------------------------------------------------------------------------------------+\n",
       "| id |                     title                      |                                                                                                                                   summary                                                                                                                                    |                                                               entities                                                              |\n",
       "+----+------------------------------------------------+------------------------------------------------------------------------------------------------------------------------------------------------------------------------------------------------------------------------------------------------------------------------------+-------------------------------------------------------------------------------------------------------------------------------------+\n",
       "| 1  |              Limits of Knowledge               |                                     Inquiry about the limitations of the AI's knowledge. Response includes explanation of the AI's knowledge limits, such as lack of personal experiences and inability to provide professional advice.                                      |                                           AI, medicine, law, mental health, internet, data                                          |\n",
       "| 2  |             Romance Story Summary              |                                            Lily, a florist, meets Alex, an artist, and they fall in love. They marry, honeymoon, and start a family. Facing challenges, but supporting each other, they live happily ever after.                                             |                  Lily, Alex, Harmony, flower shop, Alex's art gallery, wedding, honeymoon, children (son, daughter)                 |\n",
       "| 3  | Enabling remote module for preload in Electron | We discussed enabling the remote module for preload to load in Electron and a code snippet for creating a popup window. Named entities: Electron, preload, remote module, renderer process, web page, webPreferences, popup window, nodeIntegration, path, contextIsolation. | Electron, preload, remote module, renderer process, web page, webPreferences, popup window, nodeIntegration, path, contextIsolation |\n",
       "+----+------------------------------------------------+------------------------------------------------------------------------------------------------------------------------------------------------------------------------------------------------------------------------------------------------------------------------------+-------------------------------------------------------------------------------------------------------------------------------------+"
      ]
     },
     "execution_count": 109,
     "metadata": {},
     "output_type": "execute_result"
    }
   ],
   "source": [
    "%%sql\n",
    "SELECT * FROM summary;\n",
    "-- WHERE id == 1;"
   ]
  },
  {
   "cell_type": "code",
   "execution_count": 47,
   "metadata": {},
   "outputs": [],
   "source": [
    "cursor.execute(\"\"\"SELECT * FROM summary \n",
    "               WHERE id == ?;\"\"\", (1,))\n",
    "conn.commit()"
   ]
  },
  {
   "cell_type": "code",
   "execution_count": 3,
   "metadata": {},
   "outputs": [],
   "source": [
    "class YesOrNo(BaseModel):\n",
    "    answer: bool\n",
    "    reason: str\n",
    "    userInputRequired: Optional[bool]"
   ]
  },
  {
   "cell_type": "code",
   "execution_count": 9,
   "metadata": {},
   "outputs": [
    {
     "data": {
      "text/plain": [
       "{'properties': {'answer': {'title': 'Answer', 'type': 'boolean'},\n",
       "  'reason': {'title': 'Reason', 'type': 'string'},\n",
       "  'userInputRequired': {'anyOf': [{'type': 'boolean'}, {'type': 'null'}],\n",
       "   'title': 'Userinputrequired'}},\n",
       " 'required': ['answer', 'reason', 'userInputRequired'],\n",
       " 'title': 'YesOrNo',\n",
       " 'type': 'object'}"
      ]
     },
     "execution_count": 9,
     "metadata": {},
     "output_type": "execute_result"
    }
   ],
   "source": [
    "YesOrNo.model_json_schema()"
   ]
  }
 ],
 "metadata": {
  "kernelspec": {
   "display_name": "env",
   "language": "python",
   "name": "python3"
  },
  "language_info": {
   "codemirror_mode": {
    "name": "ipython",
    "version": 3
   },
   "file_extension": ".py",
   "mimetype": "text/x-python",
   "name": "python",
   "nbconvert_exporter": "python",
   "pygments_lexer": "ipython3",
   "version": "3.12.1"
  }
 },
 "nbformat": 4,
 "nbformat_minor": 2
}
